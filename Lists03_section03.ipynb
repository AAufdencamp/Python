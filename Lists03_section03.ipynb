{
 "cells": [
  {
   "cell_type": "code",
   "execution_count": 3,
   "id": "87c32d47",
   "metadata": {},
   "outputs": [],
   "source": [
    "w = ['a', 'b', 'c', 'd', 'e'] #square brackets is another way to create a list aside from useing list()"
   ]
  },
  {
   "cell_type": "code",
   "execution_count": 4,
   "id": "2d22a68a",
   "metadata": {},
   "outputs": [
    {
     "data": {
      "text/plain": [
       "['a', 'b', 'c', 'd', 'e']"
      ]
     },
     "execution_count": 4,
     "metadata": {},
     "output_type": "execute_result"
    }
   ],
   "source": [
    "w"
   ]
  },
  {
   "cell_type": "code",
   "execution_count": 5,
   "id": "b1acaa60",
   "metadata": {},
   "outputs": [
    {
     "data": {
      "text/plain": [
       "'a'"
      ]
     },
     "execution_count": 5,
     "metadata": {},
     "output_type": "execute_result"
    }
   ],
   "source": [
    "w[0] #calling the first element of w"
   ]
  },
  {
   "cell_type": "code",
   "execution_count": 7,
   "id": "e598725c",
   "metadata": {},
   "outputs": [
    {
     "data": {
      "text/plain": [
       "5"
      ]
     },
     "execution_count": 7,
     "metadata": {},
     "output_type": "execute_result"
    }
   ],
   "source": [
    "len(w) #to get the total length of a list"
   ]
  },
  {
   "cell_type": "code",
   "execution_count": 8,
   "id": "9c050732",
   "metadata": {},
   "outputs": [
    {
     "data": {
      "text/plain": [
       "'e'"
      ]
     },
     "execution_count": 8,
     "metadata": {},
     "output_type": "execute_result"
    }
   ],
   "source": [
    "w[4] #if we want the 5th element we used index 4 because Python index starts at 0."
   ]
  },
  {
   "cell_type": "code",
   "execution_count": 9,
   "id": "9ae595e0",
   "metadata": {},
   "outputs": [
    {
     "data": {
      "text/plain": [
       "'e'"
      ]
     },
     "execution_count": 9,
     "metadata": {},
     "output_type": "execute_result"
    }
   ],
   "source": [
    "w[-1] #we can also use negative indices. To get the fith element we can call -1 to retreive the last element."
   ]
  },
  {
   "cell_type": "markdown",
   "id": "fda166f6",
   "metadata": {},
   "source": [
    "#index #0 #1 #2 #3 #4\n",
    "\n",
    "#reverse index #-5 #-4 #-3 #-2 #-1\n"
   ]
  },
  {
   "cell_type": "code",
   "execution_count": 10,
   "id": "44207a1e",
   "metadata": {},
   "outputs": [],
   "source": [
    "#overwrite values:\n"
   ]
  },
  {
   "cell_type": "code",
   "execution_count": 11,
   "id": "c78461c1",
   "metadata": {},
   "outputs": [
    {
     "data": {
      "text/plain": [
       "['a', 'b', 'c', 'd', 'e']"
      ]
     },
     "execution_count": 11,
     "metadata": {},
     "output_type": "execute_result"
    }
   ],
   "source": [
    "w\n"
   ]
  },
  {
   "cell_type": "code",
   "execution_count": 12,
   "id": "5057112c",
   "metadata": {},
   "outputs": [],
   "source": [
    "w[2] = 63"
   ]
  },
  {
   "cell_type": "code",
   "execution_count": 13,
   "id": "5f0f4610",
   "metadata": {},
   "outputs": [
    {
     "data": {
      "text/plain": [
       "['a', 'b', 63, 'd', 'e']"
      ]
     },
     "execution_count": 13,
     "metadata": {},
     "output_type": "execute_result"
    }
   ],
   "source": [
    "w"
   ]
  },
  {
   "cell_type": "code",
   "execution_count": null,
   "id": "3a57e37c",
   "metadata": {},
   "outputs": [],
   "source": [
    "#lygometry"
   ]
  }
 ],
 "metadata": {
  "kernelspec": {
   "display_name": "Python 3 (ipykernel)",
   "language": "python",
   "name": "python3"
  },
  "language_info": {
   "codemirror_mode": {
    "name": "ipython",
    "version": 3
   },
   "file_extension": ".py",
   "mimetype": "text/x-python",
   "name": "python",
   "nbconvert_exporter": "python",
   "pygments_lexer": "ipython3",
   "version": "3.11.5"
  }
 },
 "nbformat": 4,
 "nbformat_minor": 5
}
