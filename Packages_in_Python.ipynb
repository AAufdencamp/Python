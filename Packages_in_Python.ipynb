{
 "cells": [
  {
   "cell_type": "code",
   "execution_count": 1,
   "id": "0063e64f",
   "metadata": {},
   "outputs": [],
   "source": [
    "#Python is designed lean on functions. You must import what you need."
   ]
  },
  {
   "cell_type": "code",
   "execution_count": 3,
   "id": "1c3efebf",
   "metadata": {},
   "outputs": [],
   "source": [
    "# module: file containing Python definitions, functions, statements. Ability to import module functionality into your script\n",
    "#IPython session"
   ]
  },
  {
   "cell_type": "code",
   "execution_count": 4,
   "id": "0fb786e6",
   "metadata": {},
   "outputs": [],
   "source": [
    "# package: collection of related modules within a tree-like hierarchy. NumPy and SciPy are complex packages with hundreds \n",
    "# individual modules put into a directory-like structure to keep it organized and avoid collisions."
   ]
  },
  {
   "cell_type": "code",
   "execution_count": 5,
   "id": "ae03e896",
   "metadata": {},
   "outputs": [],
   "source": [
    "#Find the package\n",
    "#Install the package\n",
    "#Import package\n",
    "#Import particular function (if you don't need the entire package)"
   ]
  },
  {
   "cell_type": "code",
   "execution_count": 6,
   "id": "4762fe2e",
   "metadata": {},
   "outputs": [],
   "source": [
    "#Github is a respositor of code and good place to find packages"
   ]
  },
  {
   "cell_type": "code",
   "execution_count": 7,
   "id": "68117384",
   "metadata": {},
   "outputs": [],
   "source": [
    "#I have installed Anaconda navigator locally, so I enter CMD and choose Anaconda Prompt\n",
    "#I enter conda install packagename or \n",
    "# pip install pacakagename\n"
   ]
  },
  {
   "cell_type": "code",
   "execution_count": 8,
   "id": "97c6bd11",
   "metadata": {},
   "outputs": [],
   "source": [
    "#Import\n",
    "# import packagename\n",
    "# from packagename.function import functionname\n"
   ]
  },
  {
   "cell_type": "code",
   "execution_count": 9,
   "id": "a3cb5926",
   "metadata": {},
   "outputs": [],
   "source": [
    "import scrapy"
   ]
  },
  {
   "cell_type": "code",
   "execution_count": 10,
   "id": "e44d8ea9",
   "metadata": {},
   "outputs": [],
   "source": [
    "from scrapy.crawler import CrawlerProcess"
   ]
  },
  {
   "cell_type": "code",
   "execution_count": null,
   "id": "5a07e6b8",
   "metadata": {},
   "outputs": [],
   "source": [
    "#we can call scrapy. and press tab and see a popup window of all the scrapy.functionnames available to us now:-)\n",
    "#scray.\n",
    "#CrawlerProcess."
   ]
  },
  {
   "cell_type": "code",
   "execution_count": 11,
   "id": "69b5d378",
   "metadata": {},
   "outputs": [],
   "source": [
    "#integrated development environment"
   ]
  },
  {
   "cell_type": "code",
   "execution_count": 12,
   "id": "d15b60f1",
   "metadata": {},
   "outputs": [],
   "source": [
    "# note that the Anaconda distribution already aggregates tge most popular packages. Surprise!"
   ]
  },
  {
   "cell_type": "code",
   "execution_count": null,
   "id": "03f22d4b",
   "metadata": {},
   "outputs": [],
   "source": []
  }
 ],
 "metadata": {
  "kernelspec": {
   "display_name": "Python 3 (ipykernel)",
   "language": "python",
   "name": "python3"
  },
  "language_info": {
   "codemirror_mode": {
    "name": "ipython",
    "version": 3
   },
   "file_extension": ".py",
   "mimetype": "text/x-python",
   "name": "python",
   "nbconvert_exporter": "python",
   "pygments_lexer": "ipython3",
   "version": "3.11.5"
  }
 },
 "nbformat": 4,
 "nbformat_minor": 5
}
