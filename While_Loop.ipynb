{
 "cells": [
  {
   "cell_type": "markdown",
   "id": "9c162f3a",
   "metadata": {},
   "source": [
    "While Loop---\n",
    "Phython is not a vectorized programming language like R. R is vectorized and helps us to avoid loops!\n",
    "\n",
    "Python is an object oriented language and requires loops."
   ]
  },
  {
   "cell_type": "markdown",
   "id": "83be937c",
   "metadata": {},
   "source": [
    "Typical While Loop structure\n",
    "\n",
    "while(condition){\n",
    "\n",
    "    executable code1\n",
    "    \n",
    "}\n",
    "\n",
    "executable code4\n"
   ]
  },
  {
   "cell_type": "markdown",
   "id": "5743be40",
   "metadata": {},
   "source": [
    "---"
   ]
  },
  {
   "cell_type": "markdown",
   "id": "9ce4d2c2",
   "metadata": {},
   "source": [
    "#while loop in Python\n",
    "\n",
    "while condition:\n",
    "\n",
    "    executable code1\n",
    "    \n",
    "executable code2\n",
    "\n",
    "#Phyton uses the indentations / tabulations as part of programming languae syntax.\n",
    "    "
   ]
  },
  {
   "cell_type": "code",
   "execution_count": 6,
   "id": "066b0489",
   "metadata": {},
   "outputs": [],
   "source": [
    "while False:\n",
    "    print(\"hello\") #this does nothing"
   ]
  },
  {
   "cell_type": "markdown",
   "id": "cecc1128",
   "metadata": {},
   "source": [
    "#while True:m\n",
    "    #print(\"hello\") #ininite loop. a bad idea."
   ]
  },
  {
   "cell_type": "markdown",
   "id": "2b915e68",
   "metadata": {},
   "source": [
    "Indexation in Python starts at 0\n",
    "\n",
    "Indexation in R starts at 1"
   ]
  },
  {
   "cell_type": "code",
   "execution_count": 8,
   "id": "3ec5a39b",
   "metadata": {},
   "outputs": [
    {
     "name": "stdout",
     "output_type": "stream",
     "text": [
      "0\n",
      "1\n",
      "2\n",
      "3\n",
      "4\n",
      "5\n",
      "6\n",
      "7\n",
      "8\n",
      "9\n",
      "10\n",
      "11\n"
     ]
    }
   ],
   "source": [
    "counter = 0\n",
    "while counter < 12:\n",
    "    print(counter)\n",
    "    counter = counter + 1\n",
    "    "
   ]
  },
  {
   "cell_type": "code",
   "execution_count": null,
   "id": "8cce9cd2",
   "metadata": {},
   "outputs": [],
   "source": []
  }
 ],
 "metadata": {
  "kernelspec": {
   "display_name": "Python 3 (ipykernel)",
   "language": "python",
   "name": "python3"
  },
  "language_info": {
   "codemirror_mode": {
    "name": "ipython",
    "version": 3
   },
   "file_extension": ".py",
   "mimetype": "text/x-python",
   "name": "python",
   "nbconvert_exporter": "python",
   "pygments_lexer": "ipython3",
   "version": "3.11.5"
  }
 },
 "nbformat": 4,
 "nbformat_minor": 5
}
