{
 "cells": [
  {
   "cell_type": "code",
   "execution_count": 1,
   "id": "2794f0b5",
   "metadata": {},
   "outputs": [
    {
     "name": "stdout",
     "output_type": "stream",
     "text": [
      "0\n",
      "1\n",
      "2\n",
      "3\n",
      "4\n",
      "5\n",
      "6\n",
      "7\n",
      "8\n",
      "9\n",
      "10\n",
      "11\n"
     ]
    }
   ],
   "source": [
    "counter = 0\n",
    "while counter <12:  #checking a logical condition\n",
    "    print(counter)\n",
    "    counter = counter + 1"
   ]
  },
  {
   "cell_type": "code",
   "execution_count": 2,
   "id": "da4cb127",
   "metadata": {},
   "outputs": [
    {
     "name": "stdout",
     "output_type": "stream",
     "text": [
      "Hello Python\n",
      "Hello Python\n",
      "Hello Python\n",
      "Hello Python\n",
      "Hello Python\n"
     ]
    }
   ],
   "source": [
    "for i in range(5):  #checking a range [0,1,2,3,4]. i is the iteration variable of the loop\n",
    "    print(\"Hello Python\")"
   ]
  },
  {
   "cell_type": "markdown",
   "id": "953a1fa9",
   "metadata": {},
   "source": [
    "---\n"
   ]
  },
  {
   "cell_type": "markdown",
   "id": "2dd8c936",
   "metadata": {},
   "source": [
    "#click in a cell and hit escape so it's highlighted in blue; then press a and that inserts a new cell above. press b and that #inserts a new cell below"
   ]
  },
  {
   "cell_type": "code",
   "execution_count": 3,
   "id": "eacde670",
   "metadata": {},
   "outputs": [
    {
     "data": {
      "text/plain": [
       "range(0, 5)"
      ]
     },
     "execution_count": 3,
     "metadata": {},
     "output_type": "execute_result"
    }
   ],
   "source": [
    "range(5) #quick way to create a set of 5 numbers"
   ]
  },
  {
   "cell_type": "code",
   "execution_count": 4,
   "id": "5df6bacc",
   "metadata": {},
   "outputs": [
    {
     "data": {
      "text/plain": [
       "[0, 1, 2, 3, 4]"
      ]
     },
     "execution_count": 4,
     "metadata": {},
     "output_type": "execute_result"
    }
   ],
   "source": [
    "list(range(5))"
   ]
  },
  {
   "cell_type": "markdown",
   "id": "e25bada3",
   "metadata": {},
   "source": [
    "---\n"
   ]
  },
  {
   "cell_type": "code",
   "execution_count": 7,
   "id": "ac455840",
   "metadata": {},
   "outputs": [
    {
     "name": "stdout",
     "output_type": "stream",
     "text": [
      "Hello Python: 0\n",
      "second line\n",
      "Hello Python: 1\n",
      "second line\n",
      "Hello Python: 2\n",
      "second line\n",
      "Hello Python: 3\n",
      "second line\n",
      "Hello Python: 4\n",
      "second line\n"
     ]
    }
   ],
   "source": [
    "for i in range(5):\n",
    "    print(\"Hello Python:\", i)\n",
    "    print(\"second line\")"
   ]
  },
  {
   "cell_type": "markdown",
   "id": "073ba5ee",
   "metadata": {},
   "source": [
    "---"
   ]
  },
  {
   "cell_type": "code",
   "execution_count": 9,
   "id": "adbb3450",
   "metadata": {},
   "outputs": [],
   "source": [
    "#another way\n",
    "\n",
    "mylist = [10, 100, 1000]"
   ]
  },
  {
   "cell_type": "code",
   "execution_count": 10,
   "id": "3e06eb0a",
   "metadata": {},
   "outputs": [
    {
     "data": {
      "text/plain": [
       "[10, 100, 1000]"
      ]
     },
     "execution_count": 10,
     "metadata": {},
     "output_type": "execute_result"
    }
   ],
   "source": [
    "mylist"
   ]
  },
  {
   "cell_type": "code",
   "execution_count": 12,
   "id": "7c2cd249",
   "metadata": {},
   "outputs": [
    {
     "name": "stdout",
     "output_type": "stream",
     "text": [
      "i is equal to: 10\n",
      "i is equal to: 100\n",
      "i is equal to: 1000\n"
     ]
    }
   ],
   "source": [
    "for i in mylist:\n",
    "    print(\"i is equal to:\", i)"
   ]
  },
  {
   "cell_type": "code",
   "execution_count": 13,
   "id": "f61d4aa3",
   "metadata": {},
   "outputs": [
    {
     "name": "stdout",
     "output_type": "stream",
     "text": [
      "1\n",
      "1.75\n",
      "3.0625\n"
     ]
    }
   ],
   "source": [
    "counter = 1\n",
    "while 0 < counter < 5:\n",
    "    print(counter)\n",
    "    counter = counter * 1.75"
   ]
  },
  {
   "cell_type": "code",
   "execution_count": 20,
   "id": "60f92e77",
   "metadata": {},
   "outputs": [
    {
     "name": "stdout",
     "output_type": "stream",
     "text": [
      "i love life\n",
      "i love life\n",
      "i love life\n",
      "i love life\n",
      "i love life\n",
      "i love life\n",
      "i love life\n",
      "i love life\n",
      "i love life\n",
      "i love life\n",
      "i love life\n",
      "i love life\n",
      "i love life\n",
      "i love life\n",
      "i love life\n",
      "i love life\n",
      "i love life\n",
      "i love life\n",
      "i love life\n",
      "i love life\n",
      "i love life\n",
      "i love life\n",
      "i love life\n",
      "i love life\n",
      "i love life\n",
      "i love life\n",
      "i love life\n",
      "i love life\n",
      "i love life\n",
      "i love life\n",
      "i love life\n",
      "i love life\n",
      "i love life\n",
      "i love life\n",
      "i love life\n",
      "i love life\n",
      "i love life\n",
      "i love life\n",
      "i love life\n",
      "i love life\n",
      "i love life\n",
      "i love life\n",
      "i love life\n",
      "i love life\n",
      "i love life\n",
      "i love life\n",
      "i love life\n",
      "i love life\n",
      "i love life\n",
      "i love life\n",
      "i love life\n",
      "i love life\n",
      "i love life\n",
      "i love life\n",
      "i love life\n",
      "i love life\n",
      "i love life\n",
      "i love life\n",
      "i love life\n",
      "i love life\n",
      "i love life\n",
      "i love life\n",
      "i love life\n",
      "i love life\n",
      "i love life\n",
      "i love life\n",
      "i love life\n",
      "i love life\n",
      "i love life\n",
      "i love life\n",
      "i love life\n",
      "i love life\n",
      "i love life\n",
      "i love life\n",
      "i love life\n",
      "i love life\n",
      "i love life\n",
      "i love life\n",
      "i love life\n",
      "i love life\n",
      "i love life\n",
      "i love life\n",
      "i love life\n",
      "i love life\n",
      "i love life\n",
      "i love life\n",
      "i love life\n",
      "i love life\n",
      "i love life\n",
      "i love life\n",
      "i love life\n",
      "i love life\n",
      "i love life\n",
      "i love life\n",
      "i love life\n",
      "i love life\n",
      "i love life\n",
      "i love life\n",
      "i love life\n",
      "i love life\n"
     ]
    }
   ],
   "source": [
    "for i in range(100) :\n",
    "    print(\"i love life\")"
   ]
  },
  {
   "cell_type": "code",
   "execution_count": null,
   "id": "2286c266",
   "metadata": {},
   "outputs": [],
   "source": []
  }
 ],
 "metadata": {
  "kernelspec": {
   "display_name": "Python 3 (ipykernel)",
   "language": "python",
   "name": "python3"
  },
  "language_info": {
   "codemirror_mode": {
    "name": "ipython",
    "version": 3
   },
   "file_extension": ".py",
   "mimetype": "text/x-python",
   "name": "python",
   "nbconvert_exporter": "python",
   "pygments_lexer": "ipython3",
   "version": "3.11.5"
  }
 },
 "nbformat": 4,
 "nbformat_minor": 5
}
