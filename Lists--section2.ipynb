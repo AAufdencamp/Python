{
 "cells": [
  {
   "cell_type": "markdown",
   "id": "eb4c266c",
   "metadata": {},
   "source": [
    "In Python a list is an array of ordered elements; elements are always enumerated (indexed starting at 0). Python lists accept mixed datatypes. We use lists to store data and indices to retrieve the data.\n",
    "\n",
    "Recall that in R, indexing is started at 1. Vectors must have uniform data type.\n",
    "\n",
    "\n",
    "\n"
   ]
  },
  {
   "cell_type": "code",
   "execution_count": 1,
   "id": "e3c720f2",
   "metadata": {},
   "outputs": [],
   "source": [
    "List01 = [3, 45, 56, 732]"
   ]
  },
  {
   "cell_type": "code",
   "execution_count": 2,
   "id": "92dc24ea",
   "metadata": {},
   "outputs": [
    {
     "data": {
      "text/plain": [
       "[3, 45, 56, 732]"
      ]
     },
     "execution_count": 2,
     "metadata": {},
     "output_type": "execute_result"
    }
   ],
   "source": [
    "List01"
   ]
  },
  {
   "cell_type": "code",
   "execution_count": 3,
   "id": "4c29b9f2",
   "metadata": {},
   "outputs": [
    {
     "data": {
      "text/plain": [
       "list"
      ]
     },
     "execution_count": 3,
     "metadata": {},
     "output_type": "execute_result"
    }
   ],
   "source": [
    "type(List01) #Python allows lists of mixed data types"
   ]
  },
  {
   "cell_type": "code",
   "execution_count": 5,
   "id": "673745bf",
   "metadata": {},
   "outputs": [],
   "source": [
    "List02 = ['hello', 24, True, 55.3]"
   ]
  },
  {
   "cell_type": "code",
   "execution_count": 6,
   "id": "a251fb73",
   "metadata": {},
   "outputs": [
    {
     "data": {
      "text/plain": [
       "['hello', 24, True, 55.3]"
      ]
     },
     "execution_count": 6,
     "metadata": {},
     "output_type": "execute_result"
    }
   ],
   "source": [
    "List02"
   ]
  },
  {
   "cell_type": "code",
   "execution_count": 7,
   "id": "13c86b80",
   "metadata": {},
   "outputs": [],
   "source": [
    "List03 = ['how are you?', 55, List01]"
   ]
  },
  {
   "cell_type": "code",
   "execution_count": 8,
   "id": "d002df84",
   "metadata": {},
   "outputs": [
    {
     "data": {
      "text/plain": [
       "['how are you?', 55, [3, 45, 56, 732]]"
      ]
     },
     "execution_count": 8,
     "metadata": {},
     "output_type": "execute_result"
    }
   ],
   "source": [
    "List03"
   ]
  },
  {
   "cell_type": "markdown",
   "id": "46f305a5",
   "metadata": {},
   "source": [
    "Lists can also contain other lists. You can stored lists in a list."
   ]
  },
  {
   "cell_type": "markdown",
   "id": "9f6fb75e",
   "metadata": {},
   "source": [
    "---"
   ]
  },
  {
   "cell_type": "code",
   "execution_count": null,
   "id": "1ca417eb",
   "metadata": {},
   "outputs": [],
   "source": []
  }
 ],
 "metadata": {
  "kernelspec": {
   "display_name": "Python 3 (ipykernel)",
   "language": "python",
   "name": "python3"
  },
  "language_info": {
   "codemirror_mode": {
    "name": "ipython",
    "version": 3
   },
   "file_extension": ".py",
   "mimetype": "text/x-python",
   "name": "python",
   "nbconvert_exporter": "python",
   "pygments_lexer": "ipython3",
   "version": "3.11.5"
  }
 },
 "nbformat": 4,
 "nbformat_minor": 5
}
