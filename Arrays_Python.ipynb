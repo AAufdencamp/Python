{
 "cells": [
  {
   "cell_type": "code",
   "execution_count": 1,
   "id": "9eeca936",
   "metadata": {},
   "outputs": [],
   "source": [
    "#arrays are similar but different from lists. Two types of arrays in Python: built into Python -> array arrays; and NumPy arrays\n",
    "#NumPy arrays are much more flexible and controllable. We focus on NumPy arrays"
   ]
  },
  {
   "cell_type": "code",
   "execution_count": 4,
   "id": "2c748ebe",
   "metadata": {},
   "outputs": [],
   "source": [
    "#you cannot have an array of different data types. In this way it is similar to R vector, which require homogenous data\n",
    "#if you try to put different datatypes into numpy array, Python converts all to string data.\n",
    "#BEnefits of arrays, there are functions (lists) or methods (arrays) included whenever you assign a variable name to an array\n",
    "# or a list.\n",
    "#call the variable name \"varname.\"\n",
    "#That \".\" is the built in access to numpy array methods (and list functions) \n",
    "#so you can call a method from inside an array; you can call a function from inside a list.\n"
   ]
  },
  {
   "cell_type": "code",
   "execution_count": 1,
   "id": "c240686d",
   "metadata": {},
   "outputs": [],
   "source": [
    "# SLICING A LIST CREATES A COPY OF THAT LIST. SLICING AN ARRAY CREATES A VIEW OF THAT ARRAY (NOT A COPY)"
   ]
  },
  {
   "cell_type": "code",
   "execution_count": 5,
   "id": "a3bd7ce4",
   "metadata": {},
   "outputs": [],
   "source": [
    "l = [23245, 27, 546, 215, -1234]"
   ]
  },
  {
   "cell_type": "code",
   "execution_count": 6,
   "id": "af8ff8f3",
   "metadata": {},
   "outputs": [
    {
     "data": {
      "text/plain": [
       "[23245, 27, 546, 215, -1234]"
      ]
     },
     "execution_count": 6,
     "metadata": {},
     "output_type": "execute_result"
    }
   ],
   "source": [
    "l # a list"
   ]
  },
  {
   "cell_type": "code",
   "execution_count": 2,
   "id": "0b7d0b74",
   "metadata": {},
   "outputs": [],
   "source": [
    "import numpy as np #np is a abbreviation for numpy\n",
    "\n"
   ]
  },
  {
   "cell_type": "code",
   "execution_count": 8,
   "id": "34d26704",
   "metadata": {},
   "outputs": [],
   "source": [
    "a = np.array(l) # we convert list l to an array saved to variable a"
   ]
  },
  {
   "cell_type": "code",
   "execution_count": 9,
   "id": "95c54e25",
   "metadata": {},
   "outputs": [
    {
     "data": {
      "text/plain": [
       "array([23245,    27,   546,   215, -1234])"
      ]
     },
     "execution_count": 9,
     "metadata": {},
     "output_type": "execute_result"
    }
   ],
   "source": [
    "a"
   ]
  },
  {
   "cell_type": "code",
   "execution_count": 10,
   "id": "1e7836ae",
   "metadata": {},
   "outputs": [
    {
     "data": {
      "text/plain": [
       "-1234"
      ]
     },
     "execution_count": 10,
     "metadata": {},
     "output_type": "execute_result"
    }
   ],
   "source": [
    "l.pop() #to access list functions type \".\" + tab and a popup will show you associated list functions"
   ]
  },
  {
   "cell_type": "code",
   "execution_count": 11,
   "id": "b2d6a497",
   "metadata": {},
   "outputs": [
    {
     "data": {
      "text/plain": [
       "[23245, 27, 546, 215]"
      ]
     },
     "execution_count": 11,
     "metadata": {},
     "output_type": "execute_result"
    }
   ],
   "source": [
    "l"
   ]
  },
  {
   "cell_type": "code",
   "execution_count": 13,
   "id": "598ca931",
   "metadata": {},
   "outputs": [
    {
     "data": {
      "text/plain": [
       "4559.8"
      ]
     },
     "execution_count": 13,
     "metadata": {},
     "output_type": "execute_result"
    }
   ],
   "source": [
    "a.mean()#to access array methods type \".\" + tab and a popup will show you associated array methods"
   ]
  },
  {
   "cell_type": "code",
   "execution_count": null,
   "id": "c8236851",
   "metadata": {},
   "outputs": [],
   "source": [
    "# note that a matrix is a 2D array\n",
    "#so to create a NumPy array, past an existing list into np.array()"
   ]
  }
 ],
 "metadata": {
  "kernelspec": {
   "display_name": "Python 3 (ipykernel)",
   "language": "python",
   "name": "python3"
  },
  "language_info": {
   "codemirror_mode": {
    "name": "ipython",
    "version": 3
   },
   "file_extension": ".py",
   "mimetype": "text/x-python",
   "name": "python",
   "nbconvert_exporter": "python",
   "pygments_lexer": "ipython3",
   "version": "3.11.5"
  }
 },
 "nbformat": 4,
 "nbformat_minor": 5
}
