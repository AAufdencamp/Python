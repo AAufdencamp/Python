{
 "cells": [
  {
   "cell_type": "code",
   "execution_count": null,
   "id": "09e1153f",
   "metadata": {},
   "outputs": [],
   "source": [
    "#---- -2 ---- -1 ---- 0 ---- 1 ---- 2 ----"
   ]
  },
  {
   "cell_type": "code",
   "execution_count": 3,
   "id": "44e7f07c",
   "metadata": {},
   "outputs": [],
   "source": [
    " #python package for scientific computaton. Because we have anaconda > python we have numpy\n",
    "import numpy as np\n",
    "from numpy.random import randn "
   ]
  },
  {
   "cell_type": "code",
   "execution_count": 4,
   "id": "1d99b278",
   "metadata": {},
   "outputs": [],
   "source": [
    "# randn is a function we use to create random numbers which are part of a set of normally distributed random numbers\n",
    "# mean of 0 and standard deviation of 1. Because of normal distribution property a generated random number is more likely\n",
    "#to be near the mean"
   ]
  },
  {
   "cell_type": "code",
   "execution_count": 16,
   "id": "c55a23a0",
   "metadata": {},
   "outputs": [
    {
     "data": {
      "text/plain": [
       "-0.6431048759904101"
      ]
     },
     "execution_count": 16,
     "metadata": {},
     "output_type": "execute_result"
    }
   ],
   "source": [
    "randn()"
   ]
  },
  {
   "cell_type": "code",
   "execution_count": 7,
   "id": "ace4252c",
   "metadata": {},
   "outputs": [],
   "source": [
    "#shift + enter generates a new line\n",
    "#ctrl + enter runs the cell again but stays on the same line"
   ]
  },
  {
   "cell_type": "code",
   "execution_count": 32,
   "id": "6a26a2fe",
   "metadata": {},
   "outputs": [
    {
     "name": "stdout",
     "output_type": "stream",
     "text": [
      "0.2543885006563837\n",
      "None\n"
     ]
    }
   ],
   "source": [
    "#---- -2 ---- -1 ---- 0 ---- 1 ---- 2 ----\n",
    "answer = None\n",
    "x = randn()\n",
    "if x > 1:\n",
    "    answer = \"Greater than 1\"\n",
    "print(x)\n",
    "print(answer)"
   ]
  },
  {
   "cell_type": "markdown",
   "id": "4ce9bda3",
   "metadata": {},
   "source": [
    "----"
   ]
  },
  {
   "cell_type": "code",
   "execution_count": 35,
   "id": "1733589e",
   "metadata": {},
   "outputs": [],
   "source": [
    "# if statement uses logical conditions too. No loops!"
   ]
  },
  {
   "cell_type": "markdown",
   "id": "a6d77a52",
   "metadata": {},
   "source": [
    "---"
   ]
  },
  {
   "cell_type": "code",
   "execution_count": 59,
   "id": "3adfe3f6",
   "metadata": {},
   "outputs": [
    {
     "name": "stdout",
     "output_type": "stream",
     "text": [
      "1.387329876946789\n",
      "Greater than 1\n"
     ]
    }
   ],
   "source": [
    "# else statemente\n",
    "\n",
    "answer = None\n",
    "x = randn()\n",
    "if x > 1:\n",
    "    answer = \"Greater than 1\"\n",
    "else:\n",
    "    answer = \"Less than 1\"\n",
    "print(x)\n",
    "print(answer)"
   ]
  },
  {
   "cell_type": "markdown",
   "id": "9654b5e3",
   "metadata": {},
   "source": [
    "---"
   ]
  },
  {
   "cell_type": "code",
   "execution_count": 96,
   "id": "b4582815",
   "metadata": {},
   "outputs": [
    {
     "name": "stdout",
     "output_type": "stream",
     "text": [
      "1.4373951451188678\n",
      "Greater than 1\n"
     ]
    }
   ],
   "source": [
    "#---- -2 ---- -1 ---- 0 ---- 1 ---- 2 ----\n",
    "# nested statements\n",
    "answer = None\n",
    "x = randn()\n",
    "if x > 1:\n",
    "    answer = \"Greater than 1\"\n",
    "else:\n",
    "    if x >= -1:\n",
    "        answer = \"Between -1 and 1\"\n",
    "    else:\n",
    "        answer = \"Less than -1\"\n",
    "print(x)\n",
    "print(answer)"
   ]
  },
  {
   "cell_type": "code",
   "execution_count": 117,
   "id": "6b189e59",
   "metadata": {},
   "outputs": [
    {
     "name": "stdout",
     "output_type": "stream",
     "text": [
      "-0.6982004927593897\n",
      "Between -1 and 1\n"
     ]
    }
   ],
   "source": [
    "#Chained statements (these combine else and if)\n",
    "#---- -2 ---- -1 ---- 0 ---- 1 ---- 2 ----\n",
    "# elif\n",
    "answer = None\n",
    "x = randn()\n",
    "if x > 1:\n",
    "    answer = \"Greater than 1\"\n",
    "elif x >= -1:\n",
    "        answer = \"Between -1 and 1\"\n",
    "else:\n",
    "        answer = \"Less than -1\"\n",
    "print(x)\n",
    "print(answer)"
   ]
  },
  {
   "cell_type": "markdown",
   "id": "95ffde97",
   "metadata": {},
   "source": [
    "---"
   ]
  },
  {
   "cell_type": "code",
   "execution_count": 132,
   "id": "a8c6b3e9",
   "metadata": {},
   "outputs": [
    {
     "name": "stdout",
     "output_type": "stream",
     "text": [
      "Hello\n",
      "-1.6197694234871176\n",
      "Less than -1\n"
     ]
    }
   ],
   "source": [
    "#Indentation in Python\n",
    "answer = None\n",
    "x = randn()\n",
    "if x > 1:\n",
    "    answer = \"Greater than 1\"\n",
    "elif x >= -1:\n",
    "        answer = \"Between -1 and 1\"\n",
    "else:\n",
    "        answer = \"Less than -1\"\n",
    "        print(\"Hello\")\n",
    "print(x)\n",
    "print(answer)"
   ]
  },
  {
   "cell_type": "code",
   "execution_count": null,
   "id": "f2f8f756",
   "metadata": {},
   "outputs": [],
   "source": []
  }
 ],
 "metadata": {
  "kernelspec": {
   "display_name": "Python 3 (ipykernel)",
   "language": "python",
   "name": "python3"
  },
  "language_info": {
   "codemirror_mode": {
    "name": "ipython",
    "version": 3
   },
   "file_extension": ".py",
   "mimetype": "text/x-python",
   "name": "python",
   "nbconvert_exporter": "python",
   "pygments_lexer": "ipython3",
   "version": "3.11.5"
  }
 },
 "nbformat": 4,
 "nbformat_minor": 5
}
