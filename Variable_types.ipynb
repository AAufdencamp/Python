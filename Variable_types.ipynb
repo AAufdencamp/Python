{
 "cells": [
  {
   "cell_type": "code",
   "execution_count": 1,
   "id": "a6adca9e",
   "metadata": {},
   "outputs": [],
   "source": [
    "#integer\n",
    "x = 2\n",
    "#shift enter\n",
    "#call varible to \"print it\"\n",
    "#int - whole number, counting, less space"
   ]
  },
  {
   "cell_type": "code",
   "execution_count": 2,
   "id": "74ca058f",
   "metadata": {},
   "outputs": [
    {
     "data": {
      "text/plain": [
       "2"
      ]
     },
     "execution_count": 2,
     "metadata": {},
     "output_type": "execute_result"
    }
   ],
   "source": [
    "x\n"
   ]
  },
  {
   "cell_type": "code",
   "execution_count": 3,
   "id": "e0c82e05",
   "metadata": {},
   "outputs": [
    {
     "data": {
      "text/plain": [
       "int"
      ]
     },
     "execution_count": 3,
     "metadata": {},
     "output_type": "execute_result"
    }
   ],
   "source": [
    "type(x)"
   ]
  },
  {
   "cell_type": "code",
   "execution_count": 4,
   "id": "8f051ab2",
   "metadata": {},
   "outputs": [],
   "source": [
    "#delimiter\n",
    "#change code to markdown and enter hyphens to segment"
   ]
  },
  {
   "cell_type": "markdown",
   "id": "d5861fed",
   "metadata": {},
   "source": [
    "---"
   ]
  },
  {
   "cell_type": "code",
   "execution_count": 5,
   "id": "e7926d13",
   "metadata": {},
   "outputs": [],
   "source": [
    "#float aka double; number with decimal\n",
    "y = 2.5"
   ]
  },
  {
   "cell_type": "code",
   "execution_count": 6,
   "id": "c7673122",
   "metadata": {},
   "outputs": [
    {
     "data": {
      "text/plain": [
       "2.5"
      ]
     },
     "execution_count": 6,
     "metadata": {},
     "output_type": "execute_result"
    }
   ],
   "source": [
    "y"
   ]
  },
  {
   "cell_type": "code",
   "execution_count": 9,
   "id": "6ff87dc4",
   "metadata": {},
   "outputs": [
    {
     "data": {
      "text/plain": [
       "float"
      ]
     },
     "execution_count": 9,
     "metadata": {},
     "output_type": "execute_result"
    }
   ],
   "source": [
    "type(y)"
   ]
  },
  {
   "cell_type": "markdown",
   "id": "9ff6e848",
   "metadata": {},
   "source": [
    "#edit mode has green borders\n",
    "#otherwise cell has blue border - hit escape to escape edit mode. While not in edit mode just press m to switch to markdown\n"
   ]
  },
  {
   "cell_type": "markdown",
   "id": "d2c1f154",
   "metadata": {},
   "source": [
    "Find shortcuts using the keyboard symbol on the menu board. aka command palette\n"
   ]
  },
  {
   "cell_type": "code",
   "execution_count": 10,
   "id": "c9ff913a",
   "metadata": {},
   "outputs": [],
   "source": [
    "#string\n",
    "a = 'hello'"
   ]
  },
  {
   "cell_type": "code",
   "execution_count": 11,
   "id": "9aa30791",
   "metadata": {},
   "outputs": [
    {
     "data": {
      "text/plain": [
       "'hello'"
      ]
     },
     "execution_count": 11,
     "metadata": {},
     "output_type": "execute_result"
    }
   ],
   "source": [
    "a"
   ]
  },
  {
   "cell_type": "code",
   "execution_count": 12,
   "id": "119155f3",
   "metadata": {},
   "outputs": [
    {
     "data": {
      "text/plain": [
       "str"
      ]
     },
     "execution_count": 12,
     "metadata": {},
     "output_type": "execute_result"
    }
   ],
   "source": [
    "type(a)"
   ]
  },
  {
   "cell_type": "markdown",
   "id": "1947c405",
   "metadata": {},
   "source": [
    "In Python it does not matter if you use double or single quotation marks"
   ]
  },
  {
   "cell_type": "markdown",
   "id": "2fbabe01",
   "metadata": {},
   "source": [
    "---"
   ]
  },
  {
   "cell_type": "code",
   "execution_count": 13,
   "id": "667cae61",
   "metadata": {},
   "outputs": [],
   "source": [
    "#logical\n",
    "q1=True"
   ]
  },
  {
   "cell_type": "code",
   "execution_count": 14,
   "id": "a661f69f",
   "metadata": {},
   "outputs": [
    {
     "data": {
      "text/plain": [
       "True"
      ]
     },
     "execution_count": 14,
     "metadata": {},
     "output_type": "execute_result"
    }
   ],
   "source": [
    "q1"
   ]
  },
  {
   "cell_type": "code",
   "execution_count": 15,
   "id": "b9a1f643",
   "metadata": {},
   "outputs": [
    {
     "data": {
      "text/plain": [
       "bool"
      ]
     },
     "execution_count": 15,
     "metadata": {},
     "output_type": "execute_result"
    }
   ],
   "source": [
    "type(q1)"
   ]
  },
  {
   "cell_type": "markdown",
   "id": "9636a560",
   "metadata": {},
   "source": [
    "Logical or Boolean varialbe. True or T; False or F"
   ]
  },
  {
   "cell_type": "code",
   "execution_count": null,
   "id": "a8cbb267",
   "metadata": {},
   "outputs": [],
   "source": []
  }
 ],
 "metadata": {
  "kernelspec": {
   "display_name": "Python 3 (ipykernel)",
   "language": "python",
   "name": "python3"
  },
  "language_info": {
   "codemirror_mode": {
    "name": "ipython",
    "version": 3
   },
   "file_extension": ".py",
   "mimetype": "text/x-python",
   "name": "python",
   "nbconvert_exporter": "python",
   "pygments_lexer": "ipython3",
   "version": "3.11.5"
  }
 },
 "nbformat": 4,
 "nbformat_minor": 5
}
