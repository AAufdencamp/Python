{
 "cells": [
  {
   "cell_type": "code",
   "execution_count": 2,
   "id": "92fe41be",
   "metadata": {},
   "outputs": [],
   "source": [
    "a = [1,2,3]"
   ]
  },
  {
   "cell_type": "code",
   "execution_count": 3,
   "id": "d5c30f3e",
   "metadata": {},
   "outputs": [],
   "source": [
    "b= [4,5,6]"
   ]
  },
  {
   "cell_type": "code",
   "execution_count": 4,
   "id": "ef517022",
   "metadata": {},
   "outputs": [],
   "source": [
    "ab = []"
   ]
  },
  {
   "cell_type": "code",
   "execution_count": 5,
   "id": "b2379e8f",
   "metadata": {},
   "outputs": [
    {
     "data": {
      "text/plain": [
       "[4, 10, 18]"
      ]
     },
     "execution_count": 5,
     "metadata": {},
     "output_type": "execute_result"
    }
   ],
   "source": [
    "for i in range(0, len(a)):\n",
    "    ab.append(a[i] * b[i])\n",
    "ab    "
   ]
  },
  {
   "cell_type": "code",
   "execution_count": 9,
   "id": "fb8b4fe5",
   "metadata": {},
   "outputs": [],
   "source": [
    "#List comprehensions provide a concise way to create lists. Common applications are to make new lists where each\n",
    "#element is the result of some operations applied to each member of aonther sequnce or iterable, or to create a \n",
    "#subsequence of those elments that satisfy a certain condition\n",
    "doubled_a = [i*2 for i in a]"
   ]
  },
  {
   "cell_type": "code",
   "execution_count": 10,
   "id": "31f7f5f9",
   "metadata": {},
   "outputs": [
    {
     "data": {
      "text/plain": [
       "[2, 4, 6]"
      ]
     },
     "execution_count": 10,
     "metadata": {},
     "output_type": "execute_result"
    }
   ],
   "source": [
    "doubled_a"
   ]
  },
  {
   "cell_type": "code",
   "execution_count": null,
   "id": "2d15fb37",
   "metadata": {},
   "outputs": [],
   "source": [
    "#functions round(), max(), min()"
   ]
  }
 ],
 "metadata": {
  "kernelspec": {
   "display_name": "Python 3 (ipykernel)",
   "language": "python",
   "name": "python3"
  },
  "language_info": {
   "codemirror_mode": {
    "name": "ipython",
    "version": 3
   },
   "file_extension": ".py",
   "mimetype": "text/x-python",
   "name": "python",
   "nbconvert_exporter": "python",
   "pygments_lexer": "ipython3",
   "version": "3.11.5"
  }
 },
 "nbformat": 4,
 "nbformat_minor": 5
}
